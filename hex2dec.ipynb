{
  "nbformat": 4,
  "nbformat_minor": 0,
  "metadata": {
    "colab": {
      "name": "hex2dec.ipynb",
      "provenance": [],
      "authorship_tag": "ABX9TyM1u4y+YkJc2hHVvP2s/VDO",
      "include_colab_link": true
    },
    "kernelspec": {
      "name": "python3",
      "display_name": "Python 3"
    }
  },
  "cells": [
    {
      "cell_type": "markdown",
      "metadata": {
        "id": "view-in-github",
        "colab_type": "text"
      },
      "source": [
        "<a href=\"https://colab.research.google.com/github/forvaidya/teaching/blob/master/hex2dec.ipynb\" target=\"_parent\"><img src=\"https://colab.research.google.com/assets/colab-badge.svg\" alt=\"Open In Colab\"/></a>"
      ]
    },
    {
      "cell_type": "code",
      "metadata": {
        "id": "N0CAy2mKxy40",
        "colab_type": "code",
        "colab": {}
      },
      "source": [
        "def dec2hx (num):\n",
        "  hx_map = {}\n",
        "  hx_map[0]='0'\n",
        "  hx_map[1]='1'\n",
        "  hx_map[2]='2'\n",
        "  hx_map[3]='3'\n",
        "  hx_map[4]='4'\n",
        "  hx_map[5]='5'\n",
        "  hx_map[6]='6'\n",
        "  hx_map[6]='6'\n",
        "  hx_map[7]='7'\n",
        "  hx_map[8]='8'\n",
        "  hx_map[9]='9'\n",
        "  hx_map[10]='a'\n",
        "  hx_map[11]='b'\n",
        "  hx_map[12]='c'\n",
        "  hx_map[13]='d'\n",
        "  hx_map[14]='e'\n",
        "  hx_map[15]='f'\n",
        "  \n",
        "  retval=0\n",
        "  if num > 15 :\n",
        "    retval=dec2hx(num // 16)\n",
        "  return str(retval) + hx_map[num % 16]"
      ],
      "execution_count": 1,
      "outputs": []
    },
    {
      "cell_type": "code",
      "metadata": {
        "id": "9NquBbFxyAWs",
        "colab_type": "code",
        "colab": {
          "base_uri": "https://localhost:8080/",
          "height": 554
        },
        "outputId": "576ca6f3-b837-4fa3-8a90-baacb20243eb"
      },
      "source": [
        "for i in range(100000,100127,4):\n",
        "  print(f\"Hex of {i} X::{dec2hx(i)} and using builtin function is {hex(i)}\")"
      ],
      "execution_count": 2,
      "outputs": [
        {
          "output_type": "stream",
          "text": [
            "Hex of 100000 X::0186a0 and using builtin function is 0x186a0\n",
            "Hex of 100004 X::0186a4 and using builtin function is 0x186a4\n",
            "Hex of 100008 X::0186a8 and using builtin function is 0x186a8\n",
            "Hex of 100012 X::0186ac and using builtin function is 0x186ac\n",
            "Hex of 100016 X::0186b0 and using builtin function is 0x186b0\n",
            "Hex of 100020 X::0186b4 and using builtin function is 0x186b4\n",
            "Hex of 100024 X::0186b8 and using builtin function is 0x186b8\n",
            "Hex of 100028 X::0186bc and using builtin function is 0x186bc\n",
            "Hex of 100032 X::0186c0 and using builtin function is 0x186c0\n",
            "Hex of 100036 X::0186c4 and using builtin function is 0x186c4\n",
            "Hex of 100040 X::0186c8 and using builtin function is 0x186c8\n",
            "Hex of 100044 X::0186cc and using builtin function is 0x186cc\n",
            "Hex of 100048 X::0186d0 and using builtin function is 0x186d0\n",
            "Hex of 100052 X::0186d4 and using builtin function is 0x186d4\n",
            "Hex of 100056 X::0186d8 and using builtin function is 0x186d8\n",
            "Hex of 100060 X::0186dc and using builtin function is 0x186dc\n",
            "Hex of 100064 X::0186e0 and using builtin function is 0x186e0\n",
            "Hex of 100068 X::0186e4 and using builtin function is 0x186e4\n",
            "Hex of 100072 X::0186e8 and using builtin function is 0x186e8\n",
            "Hex of 100076 X::0186ec and using builtin function is 0x186ec\n",
            "Hex of 100080 X::0186f0 and using builtin function is 0x186f0\n",
            "Hex of 100084 X::0186f4 and using builtin function is 0x186f4\n",
            "Hex of 100088 X::0186f8 and using builtin function is 0x186f8\n",
            "Hex of 100092 X::0186fc and using builtin function is 0x186fc\n",
            "Hex of 100096 X::018700 and using builtin function is 0x18700\n",
            "Hex of 100100 X::018704 and using builtin function is 0x18704\n",
            "Hex of 100104 X::018708 and using builtin function is 0x18708\n",
            "Hex of 100108 X::01870c and using builtin function is 0x1870c\n",
            "Hex of 100112 X::018710 and using builtin function is 0x18710\n",
            "Hex of 100116 X::018714 and using builtin function is 0x18714\n",
            "Hex of 100120 X::018718 and using builtin function is 0x18718\n",
            "Hex of 100124 X::01871c and using builtin function is 0x1871c\n"
          ],
          "name": "stdout"
        }
      ]
    }
  ]
}