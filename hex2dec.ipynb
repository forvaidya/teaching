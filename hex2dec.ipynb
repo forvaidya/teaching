{
  "nbformat": 4,
  "nbformat_minor": 0,
  "metadata": {
    "colab": {
      "name": "hex2dec.ipynb",
      "provenance": [],
      "authorship_tag": "ABX9TyPaDoCEpWDVd8rEsW+dK9kM",
      "include_colab_link": true
    },
    "kernelspec": {
      "name": "python3",
      "display_name": "Python 3"
    }
  },
  "cells": [
    {
      "cell_type": "markdown",
      "metadata": {
        "id": "view-in-github",
        "colab_type": "text"
      },
      "source": [
        "<a href=\"https://colab.research.google.com/github/forvaidya/teaching/blob/master/hex2dec.ipynb\" target=\"_parent\"><img src=\"https://colab.research.google.com/assets/colab-badge.svg\" alt=\"Open In Colab\"/></a>"
      ]
    },
    {
      "cell_type": "code",
      "metadata": {
        "id": "N0CAy2mKxy40",
        "colab_type": "code",
        "colab": {}
      },
      "source": [
        "def dec2hx (num):\n",
        "  hx_map = {}\n",
        "  hx_map[0]='0'\n",
        "  hx_map[1]='1'\n",
        "  hx_map[2]='2'\n",
        "  hx_map[3]='3'\n",
        "  hx_map[4]='4'\n",
        "  hx_map[5]='5'\n",
        "  hx_map[6]='6'\n",
        "  hx_map[6]='6'\n",
        "  hx_map[7]='7'\n",
        "  hx_map[8]='8'\n",
        "  hx_map[9]='9'\n",
        "  hx_map[10]='a'\n",
        "  hx_map[11]='b'\n",
        "  hx_map[12]='c'\n",
        "  hx_map[13]='d'\n",
        "  hx_map[14]='e'\n",
        "  hx_map[15]='f'\n",
        "  \n",
        "  retval=0\n",
        "  if num > 15 :\n",
        "    retval=dec2hx(num // 16)\n",
        "  return str(retval) + hx_map[num % 16]"
      ],
      "execution_count": 3,
      "outputs": []
    },
    {
      "cell_type": "code",
      "metadata": {
        "id": "9NquBbFxyAWs",
        "colab_type": "code",
        "colab": {
          "base_uri": "https://localhost:8080/",
          "height": 538
        },
        "outputId": "ee7043a8-1928-458c-935e-0c3c2350e537"
      },
      "source": [
        "for i in range(100003,100127,4):\n",
        "  print(f\"Hex of {i} X::{dec2hx(i)} and using builtin function is {hex(i)}\")"
      ],
      "execution_count": 5,
      "outputs": [
        {
          "output_type": "stream",
          "text": [
            "Hex of 100003 X::0186a3 and using builtin function is 0x186a3\n",
            "Hex of 100007 X::0186a7 and using builtin function is 0x186a7\n",
            "Hex of 100011 X::0186ab and using builtin function is 0x186ab\n",
            "Hex of 100015 X::0186af and using builtin function is 0x186af\n",
            "Hex of 100019 X::0186b3 and using builtin function is 0x186b3\n",
            "Hex of 100023 X::0186b7 and using builtin function is 0x186b7\n",
            "Hex of 100027 X::0186bb and using builtin function is 0x186bb\n",
            "Hex of 100031 X::0186bf and using builtin function is 0x186bf\n",
            "Hex of 100035 X::0186c3 and using builtin function is 0x186c3\n",
            "Hex of 100039 X::0186c7 and using builtin function is 0x186c7\n",
            "Hex of 100043 X::0186cb and using builtin function is 0x186cb\n",
            "Hex of 100047 X::0186cf and using builtin function is 0x186cf\n",
            "Hex of 100051 X::0186d3 and using builtin function is 0x186d3\n",
            "Hex of 100055 X::0186d7 and using builtin function is 0x186d7\n",
            "Hex of 100059 X::0186db and using builtin function is 0x186db\n",
            "Hex of 100063 X::0186df and using builtin function is 0x186df\n",
            "Hex of 100067 X::0186e3 and using builtin function is 0x186e3\n",
            "Hex of 100071 X::0186e7 and using builtin function is 0x186e7\n",
            "Hex of 100075 X::0186eb and using builtin function is 0x186eb\n",
            "Hex of 100079 X::0186ef and using builtin function is 0x186ef\n",
            "Hex of 100083 X::0186f3 and using builtin function is 0x186f3\n",
            "Hex of 100087 X::0186f7 and using builtin function is 0x186f7\n",
            "Hex of 100091 X::0186fb and using builtin function is 0x186fb\n",
            "Hex of 100095 X::0186ff and using builtin function is 0x186ff\n",
            "Hex of 100099 X::018703 and using builtin function is 0x18703\n",
            "Hex of 100103 X::018707 and using builtin function is 0x18707\n",
            "Hex of 100107 X::01870b and using builtin function is 0x1870b\n",
            "Hex of 100111 X::01870f and using builtin function is 0x1870f\n",
            "Hex of 100115 X::018713 and using builtin function is 0x18713\n",
            "Hex of 100119 X::018717 and using builtin function is 0x18717\n",
            "Hex of 100123 X::01871b and using builtin function is 0x1871b\n"
          ],
          "name": "stdout"
        }
      ]
    },
    {
      "cell_type": "code",
      "metadata": {
        "id": "Su1deJIE1sC0",
        "colab_type": "code",
        "colab": {}
      },
      "source": [
        "def idec2hx (num):\n",
        "  hx_map = {}\n",
        "  hx_map[0]='0'\n",
        "  hx_map[1]='1'\n",
        "  hx_map[2]='2'\n",
        "  hx_map[3]='3'\n",
        "  hx_map[4]='4'\n",
        "  hx_map[5]='5'\n",
        "  hx_map[6]='6'\n",
        "  hx_map[6]='6'\n",
        "  hx_map[7]='7'\n",
        "  hx_map[8]='8'\n",
        "  hx_map[9]='9'\n",
        "  hx_map[10]='a'\n",
        "  hx_map[11]='b'\n",
        "  hx_map[12]='c'\n",
        "  hx_map[13]='d'\n",
        "  hx_map[14]='e'\n",
        "  hx_map[15]='f'\n",
        "\n",
        "  retval=''\n",
        "  while(num > 15):\n",
        "    num = num // 16\n",
        "    retval=retval + str(num) \n",
        "  \n",
        "  retval=retval + str(hx_map[num % 16])"
      ],
      "execution_count": 7,
      "outputs": []
    },
    {
      "cell_type": "code",
      "metadata": {
        "id": "w_BZa1J12fQe",
        "colab_type": "code",
        "colab": {
          "base_uri": "https://localhost:8080/",
          "height": 538
        },
        "outputId": "0c5b7001-b4ff-482e-c37b-326aa58c93d9"
      },
      "source": [
        "for i in range(100003,100127,4):\n",
        "  print(f\"Hex of {i} X::{idec2hx(i)} and using builtin function is {hex(i)}\")"
      ],
      "execution_count": 8,
      "outputs": [
        {
          "output_type": "stream",
          "text": [
            "Hex of 100003 X::None and using builtin function is 0x186a3\n",
            "Hex of 100007 X::None and using builtin function is 0x186a7\n",
            "Hex of 100011 X::None and using builtin function is 0x186ab\n",
            "Hex of 100015 X::None and using builtin function is 0x186af\n",
            "Hex of 100019 X::None and using builtin function is 0x186b3\n",
            "Hex of 100023 X::None and using builtin function is 0x186b7\n",
            "Hex of 100027 X::None and using builtin function is 0x186bb\n",
            "Hex of 100031 X::None and using builtin function is 0x186bf\n",
            "Hex of 100035 X::None and using builtin function is 0x186c3\n",
            "Hex of 100039 X::None and using builtin function is 0x186c7\n",
            "Hex of 100043 X::None and using builtin function is 0x186cb\n",
            "Hex of 100047 X::None and using builtin function is 0x186cf\n",
            "Hex of 100051 X::None and using builtin function is 0x186d3\n",
            "Hex of 100055 X::None and using builtin function is 0x186d7\n",
            "Hex of 100059 X::None and using builtin function is 0x186db\n",
            "Hex of 100063 X::None and using builtin function is 0x186df\n",
            "Hex of 100067 X::None and using builtin function is 0x186e3\n",
            "Hex of 100071 X::None and using builtin function is 0x186e7\n",
            "Hex of 100075 X::None and using builtin function is 0x186eb\n",
            "Hex of 100079 X::None and using builtin function is 0x186ef\n",
            "Hex of 100083 X::None and using builtin function is 0x186f3\n",
            "Hex of 100087 X::None and using builtin function is 0x186f7\n",
            "Hex of 100091 X::None and using builtin function is 0x186fb\n",
            "Hex of 100095 X::None and using builtin function is 0x186ff\n",
            "Hex of 100099 X::None and using builtin function is 0x18703\n",
            "Hex of 100103 X::None and using builtin function is 0x18707\n",
            "Hex of 100107 X::None and using builtin function is 0x1870b\n",
            "Hex of 100111 X::None and using builtin function is 0x1870f\n",
            "Hex of 100115 X::None and using builtin function is 0x18713\n",
            "Hex of 100119 X::None and using builtin function is 0x18717\n",
            "Hex of 100123 X::None and using builtin function is 0x1871b\n"
          ],
          "name": "stdout"
        }
      ]
    }
  ]
}