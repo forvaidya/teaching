{
  "nbformat": 4,
  "nbformat_minor": 0,
  "metadata": {
    "colab": {
      "name": "hex2dec.ipynb",
      "provenance": [],
      "authorship_tag": "ABX9TyP17guJv7ug+u6URgiNBAqr",
      "include_colab_link": true
    },
    "kernelspec": {
      "name": "python3",
      "display_name": "Python 3"
    }
  },
  "cells": [
    {
      "cell_type": "markdown",
      "metadata": {
        "id": "view-in-github",
        "colab_type": "text"
      },
      "source": [
        "<a href=\"https://colab.research.google.com/github/forvaidya/teaching/blob/master/hex2dec.ipynb\" target=\"_parent\"><img src=\"https://colab.research.google.com/assets/colab-badge.svg\" alt=\"Open In Colab\"/></a>"
      ]
    },
    {
      "cell_type": "markdown",
      "metadata": {
        "id": "MrK56vvr21SD",
        "colab_type": "text"
      },
      "source": [
        "#Recursion Example\n",
        "Function dec2hx is called recrsively\n",
        "\n",
        "\n",
        "\n"
      ]
    },
    {
      "cell_type": "code",
      "metadata": {
        "id": "N0CAy2mKxy40",
        "colab_type": "code",
        "colab": {}
      },
      "source": [
        "def dec2hx (num):\n",
        "  hx_map = {0:'0', 1:'1', 2:'2', 3:'3', 4:'4', 5:'5', 6:'6', 7:'7', \n",
        "            8:'8', 9:'9',10:'a', 11:'b', 12:'c', 13:'d', 14:'e', 15:'f'}\n",
        "  \n",
        "  \n",
        "  retval=0\n",
        "  if num > 15 :\n",
        "    retval=dec2hx(num // 16)\n",
        "  return str(retval) + hx_map[num % 16]"
      ],
      "execution_count": 80,
      "outputs": []
    },
    {
      "cell_type": "markdown",
      "metadata": {
        "id": "_On9P9YF3Mc7",
        "colab_type": "text"
      },
      "source": [
        "#Test Code"
      ]
    },
    {
      "cell_type": "code",
      "metadata": {
        "id": "9NquBbFxyAWs",
        "colab_type": "code",
        "colab": {
          "base_uri": "https://localhost:8080/",
          "height": 84
        },
        "outputId": "9be09614-b13b-473d-bb94-1e8d1e01f185"
      },
      "source": [
        "for i in range(76,89,4):\n",
        "  print(f\"Hex of {i} X::{dec2hx(i)} and using builtin function is {hex(i)}\")"
      ],
      "execution_count": 81,
      "outputs": [
        {
          "output_type": "stream",
          "text": [
            "Hex of 76 X::04c and using builtin function is 0x4c\n",
            "Hex of 80 X::050 and using builtin function is 0x50\n",
            "Hex of 84 X::054 and using builtin function is 0x54\n",
            "Hex of 88 X::058 and using builtin function is 0x58\n"
          ],
          "name": "stdout"
        }
      ]
    },
    {
      "cell_type": "markdown",
      "metadata": {
        "id": "gT3ZYdWX3PzE",
        "colab_type": "text"
      },
      "source": [
        "#Interative version. Note While loop"
      ]
    },
    {
      "cell_type": "code",
      "metadata": {
        "id": "Su1deJIE1sC0",
        "colab_type": "code",
        "colab": {}
      },
      "source": [
        "def idec2hx (num):\n",
        "  hx_map = {0:'0', 1:'1', 2:'2', 3:'3', 4:'4', 5:'5', 6:'6', 7:'7', \n",
        "            8:'8', 9:'9',10:'a', 11:'b', 12:'c', 13:'d', 14:'e', 15:'f'}\n",
        "\n",
        "  retval=''\n",
        "  rem=hx_map[num % 16]\n",
        "  while(num > 16):\n",
        "    num = num // 16\n",
        "    retval=retval +  str(num) \n",
        "  \n",
        "  retval=retval +  rem\n",
        "  return(retval)"
      ],
      "execution_count": 82,
      "outputs": []
    },
    {
      "cell_type": "markdown",
      "metadata": {
        "id": "U9WuwfmQ3X31",
        "colab_type": "text"
      },
      "source": [
        "# Test code"
      ]
    },
    {
      "cell_type": "code",
      "metadata": {
        "id": "w_BZa1J12fQe",
        "colab_type": "code",
        "colab": {
          "base_uri": "https://localhost:8080/",
          "height": 84
        },
        "outputId": "b7995e06-3016-4ab8-a3a3-a411984e6426"
      },
      "source": [
        "for i in range(76,89,4):\n",
        "  print(f\"Hex of {i} X::{idec2hx(i)} and using builtin function is {hex(i)}\")"
      ],
      "execution_count": 83,
      "outputs": [
        {
          "output_type": "stream",
          "text": [
            "Hex of 76 X::4c and using builtin function is 0x4c\n",
            "Hex of 80 X::50 and using builtin function is 0x50\n",
            "Hex of 84 X::54 and using builtin function is 0x54\n",
            "Hex of 88 X::58 and using builtin function is 0x58\n"
          ],
          "name": "stdout"
        }
      ]
    }
  ]
}