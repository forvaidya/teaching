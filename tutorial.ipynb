{
  "nbformat": 4,
  "nbformat_minor": 0,
  "metadata": {
    "colab": {
      "name": "tutorial.ipynb",
      "provenance": [],
      "collapsed_sections": [],
      "authorship_tag": "ABX9TyOMADimIEjvHW+efHObtZY3",
      "include_colab_link": true
    },
    "kernelspec": {
      "name": "python3",
      "display_name": "Python 3"
    }
  },
  "cells": [
    {
      "cell_type": "markdown",
      "metadata": {
        "id": "view-in-github",
        "colab_type": "text"
      },
      "source": [
        "<a href=\"https://colab.research.google.com/github/forvaidya/teaching/blob/master/tutorial.ipynb\" target=\"_parent\"><img src=\"https://colab.research.google.com/assets/colab-badge.svg\" alt=\"Open In Colab\"/></a>"
      ]
    },
    {
      "cell_type": "markdown",
      "metadata": {
        "id": "R_PlpRcN3L-U",
        "colab_type": "text"
      },
      "source": [
        "# Python\n",
        "\n",
        "##Scalar Context\n",
        "+ String\n",
        "\n",
        "+ integer\n",
        "+ float\n",
        "+ Bool\n",
        "+ None "
      ]
    },
    {
      "cell_type": "markdown",
      "metadata": {
        "id": "yStKBwu-3n59",
        "colab_type": "text"
      },
      "source": [
        "#Built In functions\n",
        "https://docs.python.org/3/library/functions.html"
      ]
    },
    {
      "cell_type": "code",
      "metadata": {
        "id": "FLy11UZ24bFF",
        "colab_type": "code",
        "colab": {
          "base_uri": "https://localhost:8080/",
          "height": 35
        },
        "outputId": "35c29354-9656-4036-e14d-5e98e8080955"
      },
      "source": [
        "# String\n",
        "name = \"RauhlFandhi\"\n",
        "name"
      ],
      "execution_count": null,
      "outputs": [
        {
          "output_type": "execute_result",
          "data": {
            "application/vnd.google.colaboratory.intrinsic": {
              "type": "string"
            },
            "text/plain": [
              "'RauhlFandhi'"
            ]
          },
          "metadata": {
            "tags": []
          },
          "execution_count": 158
        }
      ]
    },
    {
      "cell_type": "code",
      "metadata": {
        "id": "PC6iBInQ4lGf",
        "colab_type": "code",
        "colab": {
          "base_uri": "https://localhost:8080/",
          "height": 35
        },
        "outputId": "1439ac56-f92f-4cee-b886-fc06645f7559"
      },
      "source": [
        "name.upper() #Use of String Function\n"
      ],
      "execution_count": null,
      "outputs": [
        {
          "output_type": "execute_result",
          "data": {
            "application/vnd.google.colaboratory.intrinsic": {
              "type": "string"
            },
            "text/plain": [
              "'RAUHLFANDHI'"
            ]
          },
          "metadata": {
            "tags": []
          },
          "execution_count": 159
        }
      ]
    },
    {
      "cell_type": "code",
      "metadata": {
        "id": "1M64sfmU5NZb",
        "colab_type": "code",
        "colab": {
          "base_uri": "https://localhost:8080/",
          "height": 34
        },
        "outputId": "d0df8e68-295d-464d-92a2-8c7afbda4a4e"
      },
      "source": [
        "len(name)\n"
      ],
      "execution_count": null,
      "outputs": [
        {
          "output_type": "execute_result",
          "data": {
            "text/plain": [
              "11"
            ]
          },
          "metadata": {
            "tags": []
          },
          "execution_count": 160
        }
      ]
    },
    {
      "cell_type": "code",
      "metadata": {
        "id": "hYnSsb_w5RWV",
        "colab_type": "code",
        "colab": {
          "base_uri": "https://localhost:8080/",
          "height": 35
        },
        "outputId": "2907d8bf-e71c-496b-d1db-d31756213a21"
      },
      "source": [
        "name[2:-3]  #Slice Example"
      ],
      "execution_count": null,
      "outputs": [
        {
          "output_type": "execute_result",
          "data": {
            "application/vnd.google.colaboratory.intrinsic": {
              "type": "string"
            },
            "text/plain": [
              "'uhlFan'"
            ]
          },
          "metadata": {
            "tags": []
          },
          "execution_count": 161
        }
      ]
    },
    {
      "cell_type": "code",
      "metadata": {
        "id": "fFML6l545UGq",
        "colab_type": "code",
        "colab": {
          "base_uri": "https://localhost:8080/",
          "height": 34
        },
        "outputId": "bce3861a-71cf-40a8-9974-a47db616fda4"
      },
      "source": [
        "#Bool example\n",
        "theory = True\n",
        "practical = True\n",
        "theory and practical"
      ],
      "execution_count": null,
      "outputs": [
        {
          "output_type": "execute_result",
          "data": {
            "text/plain": [
              "True"
            ]
          },
          "metadata": {
            "tags": []
          },
          "execution_count": 162
        }
      ]
    },
    {
      "cell_type": "code",
      "metadata": {
        "id": "MK8CKX-W504A",
        "colab_type": "code",
        "colab": {
          "base_uri": "https://localhost:8080/",
          "height": 34
        },
        "outputId": "e6e65595-7825-4251-9190-1138443723c3"
      },
      "source": [
        "theory or practical"
      ],
      "execution_count": null,
      "outputs": [
        {
          "output_type": "execute_result",
          "data": {
            "text/plain": [
              "True"
            ]
          },
          "metadata": {
            "tags": []
          },
          "execution_count": 163
        }
      ]
    },
    {
      "cell_type": "code",
      "metadata": {
        "id": "k5XW3m7N53g6",
        "colab_type": "code",
        "colab": {}
      },
      "source": [
        "theory = False"
      ],
      "execution_count": null,
      "outputs": []
    },
    {
      "cell_type": "code",
      "metadata": {
        "id": "rP2Gw069551r",
        "colab_type": "code",
        "colab": {
          "base_uri": "https://localhost:8080/",
          "height": 34
        },
        "outputId": "fc99d08b-99a9-4a6b-a065-a5d5325420ce"
      },
      "source": [
        "theory or practical"
      ],
      "execution_count": null,
      "outputs": [
        {
          "output_type": "execute_result",
          "data": {
            "text/plain": [
              "True"
            ]
          },
          "metadata": {
            "tags": []
          },
          "execution_count": 165
        }
      ]
    },
    {
      "cell_type": "code",
      "metadata": {
        "id": "3_zAb5Ou57V0",
        "colab_type": "code",
        "colab": {
          "base_uri": "https://localhost:8080/",
          "height": 34
        },
        "outputId": "0204ae2b-7598-4236-fbc7-2823dee8e369"
      },
      "source": [
        "theory and practical"
      ],
      "execution_count": null,
      "outputs": [
        {
          "output_type": "execute_result",
          "data": {
            "text/plain": [
              "False"
            ]
          },
          "metadata": {
            "tags": []
          },
          "execution_count": 166
        }
      ]
    },
    {
      "cell_type": "markdown",
      "metadata": {
        "id": "p_bcHu7Z60bL",
        "colab_type": "text"
      },
      "source": [
        "##Operators on String"
      ]
    },
    {
      "cell_type": "code",
      "metadata": {
        "id": "vgyyglku6zCi",
        "colab_type": "code",
        "colab": {}
      },
      "source": [
        "fname = \"Iswari\"\n",
        "lname = \"Vaidya\"\n"
      ],
      "execution_count": null,
      "outputs": []
    },
    {
      "cell_type": "code",
      "metadata": {
        "id": "pphItk7x5ylm",
        "colab_type": "code",
        "colab": {
          "base_uri": "https://localhost:8080/",
          "height": 35
        },
        "outputId": "edfe8aa3-47af-41c8-9812-a3f5e4fc9421"
      },
      "source": [
        "fname + lname"
      ],
      "execution_count": null,
      "outputs": [
        {
          "output_type": "execute_result",
          "data": {
            "application/vnd.google.colaboratory.intrinsic": {
              "type": "string"
            },
            "text/plain": [
              "'IswariVaidya'"
            ]
          },
          "metadata": {
            "tags": []
          },
          "execution_count": 168
        }
      ]
    },
    {
      "cell_type": "code",
      "metadata": {
        "id": "bz-luh207FsB",
        "colab_type": "code",
        "colab": {
          "base_uri": "https://localhost:8080/",
          "height": 35
        },
        "outputId": "2e8a7c49-cfd3-4248-fbc7-1f905983695b"
      },
      "source": [
        "fname + '.' + lname \n"
      ],
      "execution_count": null,
      "outputs": [
        {
          "output_type": "execute_result",
          "data": {
            "application/vnd.google.colaboratory.intrinsic": {
              "type": "string"
            },
            "text/plain": [
              "'Iswari.Vaidya'"
            ]
          },
          "metadata": {
            "tags": []
          },
          "execution_count": 169
        }
      ]
    },
    {
      "cell_type": "code",
      "metadata": {
        "id": "BStoWQED7L3o",
        "colab_type": "code",
        "colab": {
          "base_uri": "https://localhost:8080/",
          "height": 34
        },
        "outputId": "01a8c3dc-7e81-489e-c35f-93cdf72ccdc2"
      },
      "source": [
        "fullname = fname + '.' + lname\n",
        "fullname.split(r'.')"
      ],
      "execution_count": null,
      "outputs": [
        {
          "output_type": "execute_result",
          "data": {
            "text/plain": [
              "['Iswari', 'Vaidya']"
            ]
          },
          "metadata": {
            "tags": []
          },
          "execution_count": 170
        }
      ]
    },
    {
      "cell_type": "markdown",
      "metadata": {
        "id": "hS4F4uiq7XVr",
        "colab_type": "text"
      },
      "source": [
        "## Multiplication Operator on String\n",
        "It prints string N times\n",
        "\n",
        "\n",
        "```\n",
        "\"xxx\" * 3 # Becomes \n",
        "xxxxxxxxx # This..\n",
        "\n",
        "```\n",
        "# This is formatted as code\n",
        "```\n",
        "\n",
        "\n",
        "```\n",
        "\n"
      ]
    },
    {
      "cell_type": "code",
      "metadata": {
        "id": "yM08gdn37D5A",
        "colab_type": "code",
        "colab": {
          "base_uri": "https://localhost:8080/",
          "height": 35
        },
        "outputId": "49660c7a-8795-498a-ec7a-455ce309b964"
      },
      "source": [
        "marker=\"-#-\"\n",
        "marker"
      ],
      "execution_count": null,
      "outputs": [
        {
          "output_type": "execute_result",
          "data": {
            "application/vnd.google.colaboratory.intrinsic": {
              "type": "string"
            },
            "text/plain": [
              "'-#-'"
            ]
          },
          "metadata": {
            "tags": []
          },
          "execution_count": 171
        }
      ]
    },
    {
      "cell_type": "code",
      "metadata": {
        "id": "wKOcFE-P7fDz",
        "colab_type": "code",
        "colab": {
          "base_uri": "https://localhost:8080/",
          "height": 35
        },
        "outputId": "9f966a97-f844-4fb9-a7f9-83826a1ff044"
      },
      "source": [
        "marker * 3 "
      ],
      "execution_count": null,
      "outputs": [
        {
          "output_type": "execute_result",
          "data": {
            "application/vnd.google.colaboratory.intrinsic": {
              "type": "string"
            },
            "text/plain": [
              "'-#--#--#-'"
            ]
          },
          "metadata": {
            "tags": []
          },
          "execution_count": 172
        }
      ]
    },
    {
      "cell_type": "markdown",
      "metadata": {
        "id": "Ksax-4bPEHlW",
        "colab_type": "text"
      },
      "source": [
        "# Operators on integers and float\n",
        "Python have all basic operators, few special operators discussed below.\n",
        "\n",
        "\n",
        "*   and, or, not\n",
        "*   // - Floor division\n",
        "*   ^ - exclusive or'\n",
        "*   % - Modulus\n",
        "\n",
        "** some operators may not work on float alike "
      ]
    },
    {
      "cell_type": "markdown",
      "metadata": {
        "id": "ZH-XdM0dPyBk",
        "colab_type": "text"
      },
      "source": [
        "# **|** \n",
        "Bit Wise or operator\n",
        "\n",
        "```\n",
        "example if 8 is represented as 1000\n",
        "and 4 is represented as 100\n",
        "then \n",
        "\n",
        "100 | 1000 => 1100\n",
        "~ 12\n",
        "```\n",
        "\n",
        " "
      ]
    },
    {
      "cell_type": "code",
      "metadata": {
        "id": "6F0rzod7GMbw",
        "colab_type": "code",
        "colab": {
          "base_uri": "https://localhost:8080/",
          "height": 34
        },
        "outputId": "c5425488-4f3a-4916-c477-2d4abdc83066"
      },
      "source": [
        "8 | 8"
      ],
      "execution_count": null,
      "outputs": [
        {
          "output_type": "execute_result",
          "data": {
            "text/plain": [
              "8"
            ]
          },
          "metadata": {
            "tags": []
          },
          "execution_count": 173
        }
      ]
    },
    {
      "cell_type": "code",
      "metadata": {
        "id": "i_aKoD-0GSI9",
        "colab_type": "code",
        "colab": {
          "base_uri": "https://localhost:8080/",
          "height": 34
        },
        "outputId": "e8a4b315-7b1f-4dbe-8073-654c19243b74"
      },
      "source": [
        "8 ^ 4"
      ],
      "execution_count": null,
      "outputs": [
        {
          "output_type": "execute_result",
          "data": {
            "text/plain": [
              "12"
            ]
          },
          "metadata": {
            "tags": []
          },
          "execution_count": 174
        }
      ]
    },
    {
      "cell_type": "code",
      "metadata": {
        "id": "yrNT8bVCI1pm",
        "colab_type": "code",
        "colab": {
          "base_uri": "https://localhost:8080/",
          "height": 35
        },
        "outputId": "f675370e-7c05-49e1-8174-1cd2f072b950"
      },
      "source": [
        "bin(4)"
      ],
      "execution_count": null,
      "outputs": [
        {
          "output_type": "execute_result",
          "data": {
            "application/vnd.google.colaboratory.intrinsic": {
              "type": "string"
            },
            "text/plain": [
              "'0b100'"
            ]
          },
          "metadata": {
            "tags": []
          },
          "execution_count": 175
        }
      ]
    },
    {
      "cell_type": "code",
      "metadata": {
        "id": "34Gjeb-7I5fU",
        "colab_type": "code",
        "colab": {}
      },
      "source": [
        ""
      ],
      "execution_count": null,
      "outputs": []
    },
    {
      "cell_type": "code",
      "metadata": {
        "id": "10YJDxrGI56u",
        "colab_type": "code",
        "colab": {
          "base_uri": "https://localhost:8080/",
          "height": 35
        },
        "outputId": "a73ad6cb-1112-4729-bd67-152046761d76"
      },
      "source": [
        "bin(5)"
      ],
      "execution_count": null,
      "outputs": [
        {
          "output_type": "execute_result",
          "data": {
            "application/vnd.google.colaboratory.intrinsic": {
              "type": "string"
            },
            "text/plain": [
              "'0b101'"
            ]
          },
          "metadata": {
            "tags": []
          },
          "execution_count": 176
        }
      ]
    },
    {
      "cell_type": "code",
      "metadata": {
        "id": "nvUFA7EeGOwp",
        "colab_type": "code",
        "colab": {
          "base_uri": "https://localhost:8080/",
          "height": 34
        },
        "outputId": "8d31605b-ca41-4db2-ddc1-ce1bfe43e9a5"
      },
      "source": [
        "8 & 5"
      ],
      "execution_count": null,
      "outputs": [
        {
          "output_type": "execute_result",
          "data": {
            "text/plain": [
              "0"
            ]
          },
          "metadata": {
            "tags": []
          },
          "execution_count": 177
        }
      ]
    },
    {
      "cell_type": "code",
      "metadata": {
        "id": "md8-sYkrSitL",
        "colab_type": "code",
        "colab": {
          "base_uri": "https://localhost:8080/",
          "height": 34
        },
        "outputId": "1c45673c-f1be-47f3-82f8-c0536dcdb8f7"
      },
      "source": [
        "7 ^ 3"
      ],
      "execution_count": null,
      "outputs": [
        {
          "output_type": "execute_result",
          "data": {
            "text/plain": [
              "4"
            ]
          },
          "metadata": {
            "tags": []
          },
          "execution_count": 178
        }
      ]
    },
    {
      "cell_type": "code",
      "metadata": {
        "id": "W-qTzNmiUIoH",
        "colab_type": "code",
        "colab": {
          "base_uri": "https://localhost:8080/",
          "height": 50
        },
        "outputId": "cfaa407c-2f95-4531-87da-5e0a98895bfe"
      },
      "source": [
        "%who"
      ],
      "execution_count": null,
      "outputs": [
        {
          "output_type": "stream",
          "text": [
            "cut_name\t fname\t fullname\t lname\t marker\t name\t practical\t result\t string_lenght\t \n",
            "struct\t theory\t upname\t x\t y\t \n"
          ],
          "name": "stdout"
        }
      ]
    },
    {
      "cell_type": "code",
      "metadata": {
        "id": "FH8RHZkkSffh",
        "colab_type": "code",
        "colab": {
          "base_uri": "https://localhost:8080/",
          "height": 34
        },
        "outputId": "2bcc9903-3348-40ce-dfa4-ffc14c0d989d"
      },
      "source": [
        "(7 | 3) | (7 | 3)"
      ],
      "execution_count": null,
      "outputs": [
        {
          "output_type": "execute_result",
          "data": {
            "text/plain": [
              "7"
            ]
          },
          "metadata": {
            "tags": []
          },
          "execution_count": 179
        }
      ]
    },
    {
      "cell_type": "markdown",
      "metadata": {
        "id": "AUlom-tx3KNR",
        "colab_type": "text"
      },
      "source": [
        "#List Context\n",
        "+ List (aka Array)\n",
        "+ Tuple\n",
        "+ Set"
      ]
    },
    {
      "cell_type": "code",
      "metadata": {
        "id": "x3vAGwOpUfWA",
        "colab_type": "code",
        "colab": {}
      },
      "source": [
        "data = [1,4,5,6,78]"
      ],
      "execution_count": null,
      "outputs": []
    },
    {
      "cell_type": "code",
      "metadata": {
        "id": "BNQfCaAoUl2G",
        "colab_type": "code",
        "colab": {
          "base_uri": "https://localhost:8080/",
          "height": 34
        },
        "outputId": "1b0a6da7-d018-4ac5-83c8-f1610788a492"
      },
      "source": [
        "data[4] = 44\n",
        "data"
      ],
      "execution_count": null,
      "outputs": [
        {
          "output_type": "execute_result",
          "data": {
            "text/plain": [
              "[1, 4, 5, 6, 44]"
            ]
          },
          "metadata": {
            "tags": []
          },
          "execution_count": 188
        }
      ]
    },
    {
      "cell_type": "code",
      "metadata": {
        "id": "8db9ydNQUz4O",
        "colab_type": "code",
        "colab": {
          "base_uri": "https://localhost:8080/",
          "height": 34
        },
        "outputId": "ca3f4b22-c1cd-42be-a7cb-29ef722c2736"
      },
      "source": [
        "tdata = tuple(data)\n",
        "tdata"
      ],
      "execution_count": null,
      "outputs": [
        {
          "output_type": "execute_result",
          "data": {
            "text/plain": [
              "(1, 4, 5, 6, 44)"
            ]
          },
          "metadata": {
            "tags": []
          },
          "execution_count": 190
        }
      ]
    },
    {
      "cell_type": "code",
      "metadata": {
        "id": "eldrD7P8U5cw",
        "colab_type": "code",
        "colab": {
          "base_uri": "https://localhost:8080/",
          "height": 34
        },
        "outputId": "21a27175-f19b-42d2-a84c-b5d0739a358c"
      },
      "source": [
        "xyz=[1,1,3,4,5,66,66, 7,4,5,4]\n",
        "xyz"
      ],
      "execution_count": null,
      "outputs": [
        {
          "output_type": "execute_result",
          "data": {
            "text/plain": [
              "[1, 1, 3, 4, 5, 66, 66, 7, 4, 5, 4]"
            ]
          },
          "metadata": {
            "tags": []
          },
          "execution_count": 193
        }
      ]
    },
    {
      "cell_type": "code",
      "metadata": {
        "id": "h4I__Md_VMw2",
        "colab_type": "code",
        "colab": {}
      },
      "source": [
        "sxyz = set(xyz)"
      ],
      "execution_count": null,
      "outputs": []
    },
    {
      "cell_type": "code",
      "metadata": {
        "id": "4AAabROkVQR0",
        "colab_type": "code",
        "colab": {
          "base_uri": "https://localhost:8080/",
          "height": 34
        },
        "outputId": "b87af286-365b-4fcc-b0b5-b17dda8a7238"
      },
      "source": [
        "sxyz"
      ],
      "execution_count": null,
      "outputs": [
        {
          "output_type": "execute_result",
          "data": {
            "text/plain": [
              "{1, 3, 4, 5, 7, 66}"
            ]
          },
          "metadata": {
            "tags": []
          },
          "execution_count": 196
        }
      ]
    },
    {
      "cell_type": "code",
      "metadata": {
        "id": "njuAq6Q1Vakg",
        "colab_type": "code",
        "colab": {
          "base_uri": "https://localhost:8080/",
          "height": 34
        },
        "outputId": "11082ad8-13f4-4952-a05f-fbfed732b30b"
      },
      "source": [
        "sabc=set([1,444,55,66])\n",
        "sabc"
      ],
      "execution_count": null,
      "outputs": [
        {
          "output_type": "execute_result",
          "data": {
            "text/plain": [
              "{1, 55, 66, 444}"
            ]
          },
          "metadata": {
            "tags": []
          },
          "execution_count": 198
        }
      ]
    },
    {
      "cell_type": "code",
      "metadata": {
        "id": "gDd-6OQPVoxk",
        "colab_type": "code",
        "colab": {
          "base_uri": "https://localhost:8080/",
          "height": 34
        },
        "outputId": "b7822959-b82f-49b0-f673-dedda6facf19"
      },
      "source": [
        "sabc.union(sxyz)"
      ],
      "execution_count": null,
      "outputs": [
        {
          "output_type": "execute_result",
          "data": {
            "text/plain": [
              "{1, 3, 4, 5, 7, 55, 66, 444}"
            ]
          },
          "metadata": {
            "tags": []
          },
          "execution_count": 200
        }
      ]
    },
    {
      "cell_type": "code",
      "metadata": {
        "id": "dABrAnAfV2N8",
        "colab_type": "code",
        "colab": {
          "base_uri": "https://localhost:8080/",
          "height": 34
        },
        "outputId": "4d4c223e-74a6-4519-eef7-f6ea40d5840a"
      },
      "source": [
        "data"
      ],
      "execution_count": null,
      "outputs": [
        {
          "output_type": "execute_result",
          "data": {
            "text/plain": [
              "[1, 4, 5, 6, 44]"
            ]
          },
          "metadata": {
            "tags": []
          },
          "execution_count": 203
        }
      ]
    },
    {
      "cell_type": "markdown",
      "metadata": {
        "id": "VnMELRsLilXy",
        "colab_type": "text"
      },
      "source": [
        ""
      ]
    },
    {
      "cell_type": "code",
      "metadata": {
        "id": "fTu1hcK-WGVe",
        "colab_type": "code",
        "colab": {
          "base_uri": "https://localhost:8080/",
          "height": 101
        },
        "outputId": "c257d3c5-8d66-4e93-b250-fddff81efbd7"
      },
      "source": [
        "for item in data:\n",
        "  print(f\"seen {item * item}\")"
      ],
      "execution_count": null,
      "outputs": [
        {
          "output_type": "stream",
          "text": [
            "seen 1\n",
            "seen 16\n",
            "seen 25\n",
            "seen 36\n",
            "seen 1936\n"
          ],
          "name": "stdout"
        }
      ]
    },
    {
      "cell_type": "markdown",
      "metadata": {
        "id": "MlmZtXyabh5I",
        "colab_type": "text"
      },
      "source": [
        "**List Comprehension **"
      ]
    },
    {
      "cell_type": "code",
      "metadata": {
        "id": "eA23eTwiWS6u",
        "colab_type": "code",
        "colab": {}
      },
      "source": [
        "sq_data = [item * item for item in data ]"
      ],
      "execution_count": null,
      "outputs": []
    },
    {
      "cell_type": "code",
      "metadata": {
        "id": "73wd3ZwqWw0C",
        "colab_type": "code",
        "colab": {
          "base_uri": "https://localhost:8080/",
          "height": 34
        },
        "outputId": "83a5a8f4-b593-4878-f22b-2780e0134f3c"
      },
      "source": [
        "sq_data"
      ],
      "execution_count": null,
      "outputs": [
        {
          "output_type": "execute_result",
          "data": {
            "text/plain": [
              "[1, 16, 25, 36, 1936]"
            ]
          },
          "metadata": {
            "tags": []
          },
          "execution_count": 211
        }
      ]
    },
    {
      "cell_type": "code",
      "metadata": {
        "id": "Z4n8tHIUW8Sh",
        "colab_type": "code",
        "colab": {}
      },
      "source": [
        "data.append(sq_data)"
      ],
      "execution_count": null,
      "outputs": []
    },
    {
      "cell_type": "code",
      "metadata": {
        "id": "TLkdNXSMXBnd",
        "colab_type": "code",
        "colab": {
          "base_uri": "https://localhost:8080/",
          "height": 34
        },
        "outputId": "76fb393f-372c-4b75-cfa4-56ac38083aa6"
      },
      "source": [
        "data"
      ],
      "execution_count": null,
      "outputs": [
        {
          "output_type": "execute_result",
          "data": {
            "text/plain": [
              "[1, 4, 5, 6, 44, 1, 16, 25, 36, 1936, [1, 16, 25, 36, 1936]]"
            ]
          },
          "metadata": {
            "tags": []
          },
          "execution_count": 216
        }
      ]
    },
    {
      "cell_type": "code",
      "metadata": {
        "id": "uW1rSduWXQDg",
        "colab_type": "code",
        "colab": {
          "base_uri": "https://localhost:8080/",
          "height": 34
        },
        "outputId": "71a98a66-fd0f-4843-d564-cec4d6e28ce2"
      },
      "source": [
        "data=list(range(4,6))\n",
        "data"
      ],
      "execution_count": null,
      "outputs": [
        {
          "output_type": "execute_result",
          "data": {
            "text/plain": [
              "[4, 5]"
            ]
          },
          "metadata": {
            "tags": []
          },
          "execution_count": 237
        }
      ]
    },
    {
      "cell_type": "code",
      "metadata": {
        "id": "E2bHmMpNYCTe",
        "colab_type": "code",
        "colab": {}
      },
      "source": [
        ""
      ],
      "execution_count": null,
      "outputs": []
    },
    {
      "cell_type": "code",
      "metadata": {
        "id": "Sil1FhaDX4GG",
        "colab_type": "code",
        "colab": {
          "base_uri": "https://localhost:8080/",
          "height": 34
        },
        "outputId": "30280b07-7ac1-4223-8390-51e66391feca"
      },
      "source": [
        "data2=list(range(78,86))\n",
        "data2"
      ],
      "execution_count": null,
      "outputs": [
        {
          "output_type": "execute_result",
          "data": {
            "text/plain": [
              "[78, 79, 80, 81, 82, 83, 84, 85]"
            ]
          },
          "metadata": {
            "tags": []
          },
          "execution_count": 238
        }
      ]
    },
    {
      "cell_type": "code",
      "metadata": {
        "id": "NgL2NdjsX8nE",
        "colab_type": "code",
        "colab": {
          "base_uri": "https://localhost:8080/",
          "height": 34
        },
        "outputId": "839feecb-2e99-4ba1-d676-b13f26e332bf"
      },
      "source": [
        "data.extend(data2)\n",
        "data\n",
        "len(data)"
      ],
      "execution_count": null,
      "outputs": [
        {
          "output_type": "execute_result",
          "data": {
            "text/plain": [
              "10"
            ]
          },
          "metadata": {
            "tags": []
          },
          "execution_count": 239
        }
      ]
    },
    {
      "cell_type": "code",
      "metadata": {
        "id": "SyC1MbULYUtj",
        "colab_type": "code",
        "colab": {
          "base_uri": "https://localhost:8080/",
          "height": 34
        },
        "outputId": "84a4e3f8-b82f-4560-b072-0f30a2ca90d7"
      },
      "source": [
        "sorted(data)"
      ],
      "execution_count": null,
      "outputs": [
        {
          "output_type": "execute_result",
          "data": {
            "text/plain": [
              "[4, 5, 78, 79, 80, 81, 82, 83, 84, 85]"
            ]
          },
          "metadata": {
            "tags": []
          },
          "execution_count": 242
        }
      ]
    },
    {
      "cell_type": "code",
      "metadata": {
        "id": "s-_5fxnXZRCV",
        "colab_type": "code",
        "colab": {}
      },
      "source": [
        ""
      ],
      "execution_count": null,
      "outputs": []
    },
    {
      "cell_type": "markdown",
      "metadata": {
        "id": "c7ShWUi9ZSIG",
        "colab_type": "text"
      },
      "source": [
        ""
      ]
    },
    {
      "cell_type": "markdown",
      "metadata": {
        "id": "f1efgprOZToK",
        "colab_type": "text"
      },
      "source": [
        "# Dictionary / HAsh"
      ]
    },
    {
      "cell_type": "code",
      "metadata": {
        "id": "Kj6-RytfiviQ",
        "colab_type": "code",
        "colab": {}
      },
      "source": [
        "xyz = {} "
      ],
      "execution_count": null,
      "outputs": []
    },
    {
      "cell_type": "code",
      "metadata": {
        "id": "Z6NMT_Jdi0oG",
        "colab_type": "code",
        "colab": {}
      },
      "source": [
        "xyz['KA'] = 'Karnataka / Yeddi'"
      ],
      "execution_count": null,
      "outputs": []
    },
    {
      "cell_type": "code",
      "metadata": {
        "id": "QFiPbUL_jgwJ",
        "colab_type": "code",
        "colab": {}
      },
      "source": [
        "xyz['MH'] = 'Maharashtra @@@ Uddhav'\n",
        "xyz['TS'] = 'Telangana  $$$ TSR Rao'"
      ],
      "execution_count": null,
      "outputs": []
    },
    {
      "cell_type": "code",
      "metadata": {
        "id": "NzpZRWEdkP0R",
        "colab_type": "code",
        "colab": {
          "base_uri": "https://localhost:8080/",
          "height": 69
        },
        "outputId": "e2991cf1-b5f4-47b2-b82d-999b018e2fe5"
      },
      "source": [
        "xyz\n"
      ],
      "execution_count": null,
      "outputs": [
        {
          "output_type": "execute_result",
          "data": {
            "text/plain": [
              "{'KA': 'Karnataka / Yeddi',\n",
              " 'MH': 'Maharashtra @@@ Uddhav',\n",
              " 'TS': 'Telangana  $$$ TSR Rao'}"
            ]
          },
          "metadata": {
            "tags": []
          },
          "execution_count": 13
        }
      ]
    },
    {
      "cell_type": "code",
      "metadata": {
        "id": "EISp9c25k158",
        "colab_type": "code",
        "colab": {
          "base_uri": "https://localhost:8080/",
          "height": 69
        },
        "outputId": "72afd57a-e8aa-41a4-f3de-6420baad6e50"
      },
      "source": [
        "for item in xyz.keys() :\n",
        "  print(f\"Value is {xyz[item]}\")"
      ],
      "execution_count": null,
      "outputs": [
        {
          "output_type": "stream",
          "text": [
            "Value is Karnataka / Yeddi\n",
            "Value is Maharashtra @@@ Uddhav\n",
            "Value is Telangana  $$$ TSR Rao\n"
          ],
          "name": "stdout"
        }
      ]
    },
    {
      "cell_type": "code",
      "metadata": {
        "id": "EdGgm3KPlh2H",
        "colab_type": "code",
        "colab": {
          "base_uri": "https://localhost:8080/",
          "height": 34
        },
        "outputId": "4f5074b3-24b4-40f7-bea0-c82544e93d7f"
      },
      "source": [
        "xyz.items()"
      ],
      "execution_count": null,
      "outputs": [
        {
          "output_type": "execute_result",
          "data": {
            "text/plain": [
              "dict_items([('KA', 'Karnataka / Yeddi'), ('MH', 'Maharashtra @@@ Uddhav'), ('TS', 'Telangana  $$$ TSR Rao')])"
            ]
          },
          "metadata": {
            "tags": []
          },
          "execution_count": 19
        }
      ]
    },
    {
      "cell_type": "code",
      "metadata": {
        "id": "6yzFV8WTlpQd",
        "colab_type": "code",
        "colab": {
          "base_uri": "https://localhost:8080/",
          "height": 69
        },
        "outputId": "fbe01470-da90-454a-fda2-2959b1c989e3"
      },
      "source": [
        "for ii in xyz.items() :\n",
        "  print(ii)"
      ],
      "execution_count": null,
      "outputs": [
        {
          "output_type": "stream",
          "text": [
            "('KA', 'Karnataka / Yeddi')\n",
            "('MH', 'Maharashtra @@@ Uddhav')\n",
            "('TS', 'Telangana  $$$ TSR Rao')\n"
          ],
          "name": "stdout"
        }
      ]
    },
    {
      "cell_type": "code",
      "metadata": {
        "id": "DMVJDavsmkOv",
        "colab_type": "code",
        "colab": {
          "base_uri": "https://localhost:8080/",
          "height": 34
        },
        "outputId": "c0facd0f-18c5-45a8-f914-2859e8182c1c"
      },
      "source": [
        "data = [1,1,1,3,3,67,34,3,2,1]\n",
        "data\n",
        "outdict = {}\n",
        "for item in data :\n",
        "#  print(f\"Iswari:: {outdict}\")\n",
        "  try :\n",
        "    outdict[item] += 1\n",
        "  except:\n",
        "    outdict[item] = 1\n",
        "\n",
        "outdict\n"
      ],
      "execution_count": null,
      "outputs": [
        {
          "output_type": "execute_result",
          "data": {
            "text/plain": [
              "{1: 4, 2: 1, 3: 3, 34: 1, 67: 1}"
            ]
          },
          "metadata": {
            "tags": []
          },
          "execution_count": 37
        }
      ]
    },
    {
      "cell_type": "code",
      "metadata": {
        "id": "GabBtDMKprLV",
        "colab_type": "code",
        "colab": {
          "base_uri": "https://localhost:8080/",
          "height": 34
        },
        "outputId": "3aa0ac17-d763-4b97-9e9b-574449458ac2"
      },
      "source": [
        "outdict.clear()\n",
        "outdict"
      ],
      "execution_count": null,
      "outputs": [
        {
          "output_type": "execute_result",
          "data": {
            "text/plain": [
              "{}"
            ]
          },
          "metadata": {
            "tags": []
          },
          "execution_count": 39
        }
      ]
    },
    {
      "cell_type": "markdown",
      "metadata": {
        "id": "gsFfd7MKZcTB",
        "colab_type": "text"
      },
      "source": [
        "# Functions"
      ]
    },
    {
      "cell_type": "markdown",
      "metadata": {
        "id": "L4lWEkayaDOj",
        "colab_type": "text"
      },
      "source": [
        "# Debugging"
      ]
    },
    {
      "cell_type": "markdown",
      "metadata": {
        "id": "xCURtGU4Z9Jk",
        "colab_type": "text"
      },
      "source": [
        "# Class and OOP"
      ]
    }
  ]
}