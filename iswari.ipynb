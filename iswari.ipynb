{
  "nbformat": 4,
  "nbformat_minor": 0,
  "metadata": {
    "colab": {
      "name": "iswari.ipynb",
      "provenance": [],
      "collapsed_sections": [],
      "authorship_tag": "ABX9TyO1I4MZufjyIMoDi03bW3Zw",
      "include_colab_link": true
    },
    "kernelspec": {
      "name": "python3",
      "display_name": "Python 3"
    }
  },
  "cells": [
    {
      "cell_type": "markdown",
      "metadata": {
        "id": "view-in-github",
        "colab_type": "text"
      },
      "source": [
        "<a href=\"https://colab.research.google.com/github/forvaidya/teaching/blob/master/iswari.ipynb\" target=\"_parent\"><img src=\"https://colab.research.google.com/assets/colab-badge.svg\" alt=\"Open In Colab\"/></a>"
      ]
    },
    {
      "cell_type": "code",
      "metadata": {
        "id": "lfJn-ewrmxk1",
        "colab_type": "code",
        "colab": {}
      },
      "source": [
        ""
      ],
      "execution_count": null,
      "outputs": []
    },
    {
      "cell_type": "markdown",
      "metadata": {
        "id": "HFfou9RmsUg4",
        "colab_type": "text"
      },
      "source": [
        "# python Contexts\n",
        "### Global Functions\n",
        "\n",
        "Example \n",
        "+ len\n",
        "+ map\n",
        "+ reduce\n",
        "\n",
        "Those functions are available in python interpreter always.\n",
        "\n",
        "For complete list refer to.. \n",
        "https://docs.python.org/3/library/functions.html\n",
        "\n",
        "\n",
        "### Scalar Context\n",
        "### List Contexts\n",
        "### Dictionary Context\n",
        "### Print Functions explained\n"
      ]
    }
  ]
}