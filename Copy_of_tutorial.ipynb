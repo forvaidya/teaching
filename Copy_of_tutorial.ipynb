{
  "nbformat": 4,
  "nbformat_minor": 0,
  "metadata": {
    "colab": {
      "name": "Copy of tutorial.ipynb",
      "provenance": [],
      "collapsed_sections": [],
      "authorship_tag": "ABX9TyPS8+tO1rYfh+nHcb4GpVWb",
      "include_colab_link": true
    },
    "kernelspec": {
      "name": "python3",
      "display_name": "Python 3"
    }
  },
  "cells": [
    {
      "cell_type": "markdown",
      "metadata": {
        "id": "view-in-github",
        "colab_type": "text"
      },
      "source": [
        "<a href=\"https://colab.research.google.com/github/forvaidya/teaching/blob/master/Copy_of_tutorial.ipynb\" target=\"_parent\"><img src=\"https://colab.research.google.com/assets/colab-badge.svg\" alt=\"Open In Colab\"/></a>"
      ]
    },
    {
      "cell_type": "markdown",
      "metadata": {
        "id": "R_PlpRcN3L-U",
        "colab_type": "text"
      },
      "source": [
        "# Python\n",
        "\n",
        "##Scalar Context\n",
        "+ String\n",
        "\n",
        "+ integer\n",
        "+ float\n",
        "+ Bool\n",
        "+ None "
      ]
    },
    {
      "cell_type": "markdown",
      "metadata": {
        "id": "yStKBwu-3n59",
        "colab_type": "text"
      },
      "source": [
        "#Built In functions\n",
        "https://docs.python.org/3/library/functions.html"
      ]
    },
    {
      "cell_type": "code",
      "metadata": {
        "id": "FLy11UZ24bFF",
        "colab_type": "code",
        "colab": {}
      },
      "source": [
        "# String\n",
        "name = \"RauhlFandhi\"\n",
        "name"
      ],
      "execution_count": null,
      "outputs": []
    },
    {
      "cell_type": "code",
      "metadata": {
        "id": "PC6iBInQ4lGf",
        "colab_type": "code",
        "colab": {}
      },
      "source": [
        "name.upper() #Use of String Function\n"
      ],
      "execution_count": null,
      "outputs": []
    },
    {
      "cell_type": "code",
      "metadata": {
        "id": "1M64sfmU5NZb",
        "colab_type": "code",
        "colab": {}
      },
      "source": [
        "len(name)\n"
      ],
      "execution_count": null,
      "outputs": []
    },
    {
      "cell_type": "code",
      "metadata": {
        "id": "hYnSsb_w5RWV",
        "colab_type": "code",
        "colab": {}
      },
      "source": [
        "name[2:-3]  #Slice Example"
      ],
      "execution_count": null,
      "outputs": []
    },
    {
      "cell_type": "code",
      "metadata": {
        "id": "fFML6l545UGq",
        "colab_type": "code",
        "colab": {}
      },
      "source": [
        "#Bool example\n",
        "theory = True\n",
        "practical = True\n",
        "theory and practical"
      ],
      "execution_count": null,
      "outputs": []
    },
    {
      "cell_type": "code",
      "metadata": {
        "id": "MK8CKX-W504A",
        "colab_type": "code",
        "colab": {}
      },
      "source": [
        "theory or practical"
      ],
      "execution_count": null,
      "outputs": []
    },
    {
      "cell_type": "code",
      "metadata": {
        "id": "k5XW3m7N53g6",
        "colab_type": "code",
        "colab": {}
      },
      "source": [
        "theory = False"
      ],
      "execution_count": null,
      "outputs": []
    },
    {
      "cell_type": "code",
      "metadata": {
        "id": "rP2Gw069551r",
        "colab_type": "code",
        "colab": {}
      },
      "source": [
        "theory or practical"
      ],
      "execution_count": null,
      "outputs": []
    },
    {
      "cell_type": "code",
      "metadata": {
        "id": "3_zAb5Ou57V0",
        "colab_type": "code",
        "colab": {}
      },
      "source": [
        "theory and practical"
      ],
      "execution_count": null,
      "outputs": []
    },
    {
      "cell_type": "markdown",
      "metadata": {
        "id": "p_bcHu7Z60bL",
        "colab_type": "text"
      },
      "source": [
        "##Operators on String"
      ]
    },
    {
      "cell_type": "code",
      "metadata": {
        "id": "vgyyglku6zCi",
        "colab_type": "code",
        "colab": {}
      },
      "source": [
        "fname = \"Iswari\"\n",
        "lname = \"Vaidya\"\n"
      ],
      "execution_count": null,
      "outputs": []
    },
    {
      "cell_type": "code",
      "metadata": {
        "id": "pphItk7x5ylm",
        "colab_type": "code",
        "colab": {}
      },
      "source": [
        "fname + lname"
      ],
      "execution_count": null,
      "outputs": []
    },
    {
      "cell_type": "code",
      "metadata": {
        "id": "bz-luh207FsB",
        "colab_type": "code",
        "colab": {}
      },
      "source": [
        "fname + '.' + lname \n"
      ],
      "execution_count": null,
      "outputs": []
    },
    {
      "cell_type": "code",
      "metadata": {
        "id": "BStoWQED7L3o",
        "colab_type": "code",
        "colab": {}
      },
      "source": [
        "fullname = fname + '.' + lname\n",
        "fullname.split(r'.')"
      ],
      "execution_count": null,
      "outputs": []
    },
    {
      "cell_type": "markdown",
      "metadata": {
        "id": "hS4F4uiq7XVr",
        "colab_type": "text"
      },
      "source": [
        "## Multiplication Operator on String\n",
        "It prints string N times\n",
        "\n",
        "\n",
        "```\n",
        "\"xxx\" * 3 # Becomes \n",
        "xxxxxxxxx # This..\n",
        "\n",
        "```\n",
        "# This is formatted as code\n",
        "```\n",
        "\n",
        "\n",
        "```\n",
        "\n"
      ]
    },
    {
      "cell_type": "code",
      "metadata": {
        "id": "yM08gdn37D5A",
        "colab_type": "code",
        "colab": {}
      },
      "source": [
        "marker=\"-#-\"\n",
        "marker"
      ],
      "execution_count": null,
      "outputs": []
    },
    {
      "cell_type": "code",
      "metadata": {
        "id": "wKOcFE-P7fDz",
        "colab_type": "code",
        "colab": {}
      },
      "source": [
        "marker * 3 "
      ],
      "execution_count": null,
      "outputs": []
    },
    {
      "cell_type": "code",
      "metadata": {
        "id": "saEWAx2rjQa4",
        "colab_type": "code",
        "colab": {}
      },
      "source": [
        "10%5\n"
      ],
      "execution_count": null,
      "outputs": []
    },
    {
      "cell_type": "code",
      "metadata": {
        "id": "CYl7i8HajSEY",
        "colab_type": "code",
        "colab": {}
      },
      "source": [
        "10%3"
      ],
      "execution_count": null,
      "outputs": []
    },
    {
      "cell_type": "code",
      "metadata": {
        "id": "ii1I1F5zjTPd",
        "colab_type": "code",
        "colab": {}
      },
      "source": [
        ""
      ],
      "execution_count": null,
      "outputs": []
    },
    {
      "cell_type": "markdown",
      "metadata": {
        "id": "Ksax-4bPEHlW",
        "colab_type": "text"
      },
      "source": [
        "# Operators on integers and float\n",
        "Python have all basic operators, few special operators discussed below.\n",
        "\n",
        "\n",
        "*   and, or, not\n",
        "*   // - Floor division\n",
        "*   ^ - exclusive or'\n",
        "*   % - Modulus\n",
        "\n",
        "** some operators may not work on float alike "
      ]
    },
    {
      "cell_type": "markdown",
      "metadata": {
        "id": "ZH-XdM0dPyBk",
        "colab_type": "text"
      },
      "source": [
        "# **|** \n",
        "Bit Wise or operator\n",
        "\n",
        "```\n",
        "example if 8 is represented as 1000\n",
        "and 4 is represented as 100\n",
        "then \n",
        "\n",
        "100 | 1000 => 1100\n",
        "~ 12\n",
        "```\n",
        "\n",
        " "
      ]
    },
    {
      "cell_type": "code",
      "metadata": {
        "id": "6F0rzod7GMbw",
        "colab_type": "code",
        "colab": {}
      },
      "source": [
        "8 | 8"
      ],
      "execution_count": null,
      "outputs": []
    },
    {
      "cell_type": "code",
      "metadata": {
        "id": "i_aKoD-0GSI9",
        "colab_type": "code",
        "colab": {}
      },
      "source": [
        "8 ^ 4"
      ],
      "execution_count": null,
      "outputs": []
    },
    {
      "cell_type": "code",
      "metadata": {
        "id": "yrNT8bVCI1pm",
        "colab_type": "code",
        "colab": {}
      },
      "source": [
        "bin(4)"
      ],
      "execution_count": null,
      "outputs": []
    },
    {
      "cell_type": "code",
      "metadata": {
        "id": "34Gjeb-7I5fU",
        "colab_type": "code",
        "colab": {}
      },
      "source": [
        ""
      ],
      "execution_count": null,
      "outputs": []
    },
    {
      "cell_type": "code",
      "metadata": {
        "id": "10YJDxrGI56u",
        "colab_type": "code",
        "colab": {}
      },
      "source": [
        "bin(5)"
      ],
      "execution_count": null,
      "outputs": []
    },
    {
      "cell_type": "code",
      "metadata": {
        "id": "nvUFA7EeGOwp",
        "colab_type": "code",
        "colab": {}
      },
      "source": [
        "8 & 5"
      ],
      "execution_count": null,
      "outputs": []
    },
    {
      "cell_type": "code",
      "metadata": {
        "id": "md8-sYkrSitL",
        "colab_type": "code",
        "colab": {}
      },
      "source": [
        "7 ^ 3"
      ],
      "execution_count": null,
      "outputs": []
    },
    {
      "cell_type": "code",
      "metadata": {
        "id": "W-qTzNmiUIoH",
        "colab_type": "code",
        "colab": {}
      },
      "source": [
        "%who"
      ],
      "execution_count": null,
      "outputs": []
    },
    {
      "cell_type": "code",
      "metadata": {
        "id": "FH8RHZkkSffh",
        "colab_type": "code",
        "colab": {}
      },
      "source": [
        "(7 | 3) | (7 | 3)"
      ],
      "execution_count": null,
      "outputs": []
    },
    {
      "cell_type": "markdown",
      "metadata": {
        "id": "AUlom-tx3KNR",
        "colab_type": "text"
      },
      "source": [
        "#List Context\n",
        "+ List (aka Array)\n",
        "+ Tuple\n",
        "+ Set"
      ]
    },
    {
      "cell_type": "code",
      "metadata": {
        "id": "x3vAGwOpUfWA",
        "colab_type": "code",
        "colab": {}
      },
      "source": [
        "data = [1,4,5,6,78]"
      ],
      "execution_count": null,
      "outputs": []
    },
    {
      "cell_type": "code",
      "metadata": {
        "id": "BNQfCaAoUl2G",
        "colab_type": "code",
        "colab": {}
      },
      "source": [
        "data[4] = 44\n",
        "data"
      ],
      "execution_count": null,
      "outputs": []
    },
    {
      "cell_type": "code",
      "metadata": {
        "id": "8db9ydNQUz4O",
        "colab_type": "code",
        "colab": {}
      },
      "source": [
        "tdata = tuple(data)\n",
        "tdata"
      ],
      "execution_count": null,
      "outputs": []
    },
    {
      "cell_type": "code",
      "metadata": {
        "id": "eldrD7P8U5cw",
        "colab_type": "code",
        "colab": {}
      },
      "source": [
        "xyz=[1,1,3,4,5,66,66, 7,4,5,4]\n",
        "xyz"
      ],
      "execution_count": null,
      "outputs": []
    },
    {
      "cell_type": "code",
      "metadata": {
        "id": "h4I__Md_VMw2",
        "colab_type": "code",
        "colab": {}
      },
      "source": [
        "sxyz = set(xyz)"
      ],
      "execution_count": null,
      "outputs": []
    },
    {
      "cell_type": "code",
      "metadata": {
        "id": "4AAabROkVQR0",
        "colab_type": "code",
        "colab": {}
      },
      "source": [
        "sxyz"
      ],
      "execution_count": null,
      "outputs": []
    },
    {
      "cell_type": "code",
      "metadata": {
        "id": "njuAq6Q1Vakg",
        "colab_type": "code",
        "colab": {}
      },
      "source": [
        "sabc=set([1,444,55,66])\n",
        "sabc"
      ],
      "execution_count": null,
      "outputs": []
    },
    {
      "cell_type": "code",
      "metadata": {
        "id": "gDd-6OQPVoxk",
        "colab_type": "code",
        "colab": {}
      },
      "source": [
        "sabc.union(sxyz)"
      ],
      "execution_count": null,
      "outputs": []
    },
    {
      "cell_type": "code",
      "metadata": {
        "id": "dABrAnAfV2N8",
        "colab_type": "code",
        "colab": {}
      },
      "source": [
        "data"
      ],
      "execution_count": null,
      "outputs": []
    },
    {
      "cell_type": "markdown",
      "metadata": {
        "id": "VnMELRsLilXy",
        "colab_type": "text"
      },
      "source": [
        ""
      ]
    },
    {
      "cell_type": "code",
      "metadata": {
        "id": "fTu1hcK-WGVe",
        "colab_type": "code",
        "colab": {}
      },
      "source": [
        "for item in data:\n",
        "  print(f\"seen {item * item}\")"
      ],
      "execution_count": null,
      "outputs": []
    },
    {
      "cell_type": "markdown",
      "metadata": {
        "id": "MlmZtXyabh5I",
        "colab_type": "text"
      },
      "source": [
        "**List Comprehension **"
      ]
    },
    {
      "cell_type": "code",
      "metadata": {
        "id": "eA23eTwiWS6u",
        "colab_type": "code",
        "colab": {}
      },
      "source": [
        "sq_data = [item * item for item in data ]"
      ],
      "execution_count": null,
      "outputs": []
    },
    {
      "cell_type": "code",
      "metadata": {
        "id": "73wd3ZwqWw0C",
        "colab_type": "code",
        "colab": {}
      },
      "source": [
        "sq_data"
      ],
      "execution_count": null,
      "outputs": []
    },
    {
      "cell_type": "code",
      "metadata": {
        "id": "Z4n8tHIUW8Sh",
        "colab_type": "code",
        "colab": {}
      },
      "source": [
        "data.append(sq_data)"
      ],
      "execution_count": null,
      "outputs": []
    },
    {
      "cell_type": "code",
      "metadata": {
        "id": "TLkdNXSMXBnd",
        "colab_type": "code",
        "colab": {}
      },
      "source": [
        "data"
      ],
      "execution_count": null,
      "outputs": []
    },
    {
      "cell_type": "code",
      "metadata": {
        "id": "uW1rSduWXQDg",
        "colab_type": "code",
        "colab": {}
      },
      "source": [
        "data=list(range(4,6))\n",
        "data"
      ],
      "execution_count": null,
      "outputs": []
    },
    {
      "cell_type": "code",
      "metadata": {
        "id": "E2bHmMpNYCTe",
        "colab_type": "code",
        "colab": {}
      },
      "source": [
        ""
      ],
      "execution_count": null,
      "outputs": []
    },
    {
      "cell_type": "code",
      "metadata": {
        "id": "Sil1FhaDX4GG",
        "colab_type": "code",
        "colab": {}
      },
      "source": [
        "data2=list(range(78,86))\n",
        "data2"
      ],
      "execution_count": null,
      "outputs": []
    },
    {
      "cell_type": "code",
      "metadata": {
        "id": "NgL2NdjsX8nE",
        "colab_type": "code",
        "colab": {}
      },
      "source": [
        "data.extend(data2)\n",
        "data\n",
        "len(data)"
      ],
      "execution_count": null,
      "outputs": []
    },
    {
      "cell_type": "code",
      "metadata": {
        "id": "SyC1MbULYUtj",
        "colab_type": "code",
        "colab": {}
      },
      "source": [
        "sorted(data)"
      ],
      "execution_count": null,
      "outputs": []
    },
    {
      "cell_type": "code",
      "metadata": {
        "id": "s-_5fxnXZRCV",
        "colab_type": "code",
        "colab": {}
      },
      "source": [
        ""
      ],
      "execution_count": null,
      "outputs": []
    },
    {
      "cell_type": "markdown",
      "metadata": {
        "id": "c7ShWUi9ZSIG",
        "colab_type": "text"
      },
      "source": [
        ""
      ]
    },
    {
      "cell_type": "markdown",
      "metadata": {
        "id": "f1efgprOZToK",
        "colab_type": "text"
      },
      "source": [
        "# Dictionary / HAsh"
      ]
    },
    {
      "cell_type": "code",
      "metadata": {
        "id": "Kj6-RytfiviQ",
        "colab_type": "code",
        "colab": {}
      },
      "source": [
        "xyz = {} "
      ],
      "execution_count": null,
      "outputs": []
    },
    {
      "cell_type": "code",
      "metadata": {
        "id": "Z6NMT_Jdi0oG",
        "colab_type": "code",
        "colab": {}
      },
      "source": [
        "xyz['KA'] = 'Karnataka / Yeddi'"
      ],
      "execution_count": null,
      "outputs": []
    },
    {
      "cell_type": "code",
      "metadata": {
        "id": "QFiPbUL_jgwJ",
        "colab_type": "code",
        "colab": {}
      },
      "source": [
        "xyz['MH'] = 'Maharashtra @@@ Uddhav'\n",
        "xyz['TS'] = 'Telangana  $$$ TSR Rao'"
      ],
      "execution_count": null,
      "outputs": []
    },
    {
      "cell_type": "code",
      "metadata": {
        "id": "NzpZRWEdkP0R",
        "colab_type": "code",
        "colab": {}
      },
      "source": [
        "xyz\n"
      ],
      "execution_count": null,
      "outputs": []
    },
    {
      "cell_type": "code",
      "metadata": {
        "id": "EISp9c25k158",
        "colab_type": "code",
        "colab": {}
      },
      "source": [
        "for item in xyz.keys() :\n",
        "  print(f\"Value is {xyz[item]}\")"
      ],
      "execution_count": null,
      "outputs": []
    },
    {
      "cell_type": "code",
      "metadata": {
        "id": "EdGgm3KPlh2H",
        "colab_type": "code",
        "colab": {}
      },
      "source": [
        "xyz.items()"
      ],
      "execution_count": null,
      "outputs": []
    },
    {
      "cell_type": "code",
      "metadata": {
        "id": "6yzFV8WTlpQd",
        "colab_type": "code",
        "colab": {}
      },
      "source": [
        "for ii in xyz.items() :\n",
        "  print(ii)"
      ],
      "execution_count": null,
      "outputs": []
    },
    {
      "cell_type": "code",
      "metadata": {
        "id": "DMVJDavsmkOv",
        "colab_type": "code",
        "colab": {}
      },
      "source": [
        "data = [1,1,1,3,3,67,34,3,2,1]\n",
        "data\n",
        "outdict = {}\n",
        "for item in data :\n",
        "  try :\n",
        "    outdict[item] += 1\n",
        "    print(f\"Repeat Entry:: {outdict}\")\n",
        "  except:   \n",
        "    outdict[item] = 1\n",
        "    print(f\"New Entry:: {outdict}\")\n",
        "\n",
        "outdict\n"
      ],
      "execution_count": null,
      "outputs": []
    },
    {
      "cell_type": "code",
      "metadata": {
        "id": "GabBtDMKprLV",
        "colab_type": "code",
        "colab": {}
      },
      "source": [
        "outdict.clear()\n",
        "outdict"
      ],
      "execution_count": null,
      "outputs": []
    },
    {
      "cell_type": "markdown",
      "metadata": {
        "id": "gsFfd7MKZcTB",
        "colab_type": "text"
      },
      "source": [
        "# Functions"
      ]
    },
    {
      "cell_type": "code",
      "metadata": {
        "id": "eZPA8LLCe6rE",
        "colab_type": "code",
        "colab": {}
      },
      "source": [
        "def fereq_count(input):\n",
        "  f_out = {}\n",
        "  for item in input :\n",
        "    try :\n",
        "      f_out[item] += 1\n",
        "    except :\n",
        "      f_out[item] = 1\n",
        "  return f_out\n",
        "\n"
      ],
      "execution_count": null,
      "outputs": []
    },
    {
      "cell_type": "code",
      "metadata": {
        "id": "YzWf8NuqfhTe",
        "colab_type": "code",
        "colab": {}
      },
      "source": [
        "print(fereq_count([1,1,1,3,4,4,4,4,4,4,4]))"
      ],
      "execution_count": null,
      "outputs": []
    },
    {
      "cell_type": "code",
      "metadata": {
        "id": "Cuc6wnlDfnT1",
        "colab_type": "code",
        "colab": {}
      },
      "source": [
        "print(fereq_count([1,1,1,3]))"
      ],
      "execution_count": null,
      "outputs": []
    },
    {
      "cell_type": "code",
      "metadata": {
        "id": "4SBLNe6ogDGv",
        "colab_type": "code",
        "colab": {}
      },
      "source": [
        "fereq_count"
      ],
      "execution_count": null,
      "outputs": []
    },
    {
      "cell_type": "code",
      "metadata": {
        "id": "o7oQpEqBgUds",
        "colab_type": "code",
        "colab": {}
      },
      "source": [
        "name"
      ],
      "execution_count": null,
      "outputs": []
    },
    {
      "cell_type": "code",
      "metadata": {
        "id": "jJFyL87RgXd3",
        "colab_type": "code",
        "colab": {}
      },
      "source": [
        "fq=fereq_count"
      ],
      "execution_count": null,
      "outputs": []
    },
    {
      "cell_type": "code",
      "metadata": {
        "id": "matGB3OSgp3_",
        "colab_type": "code",
        "colab": {}
      },
      "source": [
        "fq([1,1,1,11,1,111,1,1,11,11,])"
      ],
      "execution_count": null,
      "outputs": []
    },
    {
      "cell_type": "code",
      "metadata": {
        "id": "qFgfImiGguQX",
        "colab_type": "code",
        "colab": {}
      },
      "source": [
        "fereq_count([1,1,1,11,1,111,1,1,11,11,])"
      ],
      "execution_count": null,
      "outputs": []
    },
    {
      "cell_type": "code",
      "metadata": {
        "id": "UvuKuPmQio4n",
        "colab_type": "code",
        "colab": {}
      },
      "source": [
        "fereq_count=None"
      ],
      "execution_count": null,
      "outputs": []
    },
    {
      "cell_type": "code",
      "metadata": {
        "id": "EztM8f4CkKz1",
        "colab_type": "code",
        "colab": {}
      },
      "source": [
        "def DecimalToBinary(num): \n",
        "    print(f\"In Function NUM is {num}\")\n",
        "    if num > 1: \n",
        "        DecimalToBinary(num // 2) \n",
        "    print(num % 2, end = '') \n"
      ],
      "execution_count": null,
      "outputs": []
    },
    {
      "cell_type": "code",
      "metadata": {
        "id": "h6Cb9OH_o3uZ",
        "colab_type": "code",
        "colab": {}
      },
      "source": [
        "DecimalToBinary(127)"
      ],
      "execution_count": null,
      "outputs": []
    },
    {
      "cell_type": "code",
      "metadata": {
        "id": "7CwMiPgIlq27",
        "colab_type": "code",
        "colab": {}
      },
      "source": [
        "aar = list(range(10,17))\n",
        "aar"
      ],
      "execution_count": null,
      "outputs": []
    },
    {
      "cell_type": "code",
      "metadata": {
        "id": "fkV47pTvrfjX",
        "colab_type": "code",
        "colab": {}
      },
      "source": [
        "def genSq(my_arr):\n",
        "  for item in my_arr:\n",
        "    yield item * item\n"
      ],
      "execution_count": null,
      "outputs": []
    },
    {
      "cell_type": "code",
      "metadata": {
        "id": "1W5pPNwZr1Sq",
        "colab_type": "code",
        "colab": {}
      },
      "source": [
        "test1 = genSq([1,3,5,6,7])\n",
        "\n"
      ],
      "execution_count": null,
      "outputs": []
    },
    {
      "cell_type": "code",
      "metadata": {
        "id": "pG_0QmNqsHMk",
        "colab_type": "code",
        "colab": {
          "base_uri": "https://localhost:8080/",
          "height": 198
        },
        "outputId": "c019c927-6dfd-498e-a675-e2f8c5f16856"
      },
      "source": [
        "for item in test1 :\n",
        "  print(item)\n",
        " "
      ],
      "execution_count": 1,
      "outputs": [
        {
          "output_type": "error",
          "ename": "NameError",
          "evalue": "ignored",
          "traceback": [
            "\u001b[0;31m---------------------------------------------------------------------------\u001b[0m",
            "\u001b[0;31mNameError\u001b[0m                                 Traceback (most recent call last)",
            "\u001b[0;32m<ipython-input-1-045fdd223d76>\u001b[0m in \u001b[0;36m<module>\u001b[0;34m()\u001b[0m\n\u001b[0;32m----> 1\u001b[0;31m \u001b[0;32mfor\u001b[0m \u001b[0mitem\u001b[0m \u001b[0;32min\u001b[0m \u001b[0mtest1\u001b[0m \u001b[0;34m:\u001b[0m\u001b[0;34m\u001b[0m\u001b[0;34m\u001b[0m\u001b[0m\n\u001b[0m\u001b[1;32m      2\u001b[0m   \u001b[0mprint\u001b[0m\u001b[0;34m(\u001b[0m\u001b[0mitem\u001b[0m\u001b[0;34m)\u001b[0m\u001b[0;34m\u001b[0m\u001b[0;34m\u001b[0m\u001b[0m\n\u001b[1;32m      3\u001b[0m \u001b[0;34m\u001b[0m\u001b[0m\n",
            "\u001b[0;31mNameError\u001b[0m: name 'test1' is not defined"
          ]
        }
      ]
    },
    {
      "cell_type": "code",
      "metadata": {
        "id": "jYhqTEkHlE6r",
        "colab_type": "code",
        "colab": {
          "base_uri": "https://localhost:8080/",
          "height": 286
        },
        "outputId": "4c5c248f-d4c2-49e1-fa9f-a0beae571ab0"
      },
      "source": [
        "hx_map = {}\n",
        "hx_map[0]='0'\n",
        "hx_map[1]='1'\n",
        "hx_map[2]='2'\n",
        "hx_map[3]='3'\n",
        "hx_map[4]='4'\n",
        "hx_map[5]='5'\n",
        "hx_map[6]='6'\n",
        "hx_map[6]='6'\n",
        "hx_map[7]='7'\n",
        "hx_map[8]='8'\n",
        "hx_map[9]='9'\n",
        "hx_map[10]='a'\n",
        "hx_map[11]='b'\n",
        "hx_map[12]='c'\n",
        "hx_map[13]='d'\n",
        "hx_map[14]='e'\n",
        "hx_map[15]='f'\n",
        "\n",
        "hx_map\n",
        "\n"
      ],
      "execution_count": 10,
      "outputs": [
        {
          "output_type": "execute_result",
          "data": {
            "text/plain": [
              "{0: '0',\n",
              " 1: '1',\n",
              " 2: '2',\n",
              " 3: '3',\n",
              " 4: '4',\n",
              " 5: '5',\n",
              " 6: '6',\n",
              " 7: '7',\n",
              " 8: '8',\n",
              " 9: '9',\n",
              " 10: 'a',\n",
              " 11: 'b',\n",
              " 12: 'c',\n",
              " 13: 'd',\n",
              " 14: 'e',\n",
              " 15: 'f'}"
            ]
          },
          "metadata": {
            "tags": []
          },
          "execution_count": 10
        }
      ]
    },
    {
      "cell_type": "code",
      "metadata": {
        "id": "xIvd786tlK1p",
        "colab_type": "code",
        "colab": {}
      },
      "source": [
        "def dec2hx (num):\n",
        "  hx_map = {}\n",
        "  hx_map[0]='0'\n",
        "  hx_map[1]='1'\n",
        "  hx_map[2]='2'\n",
        "  hx_map[3]='3'\n",
        "  hx_map[4]='4'\n",
        "  hx_map[5]='5'\n",
        "  hx_map[6]='6'\n",
        "  hx_map[6]='6'\n",
        "  hx_map[7]='7'\n",
        "  hx_map[8]='8'\n",
        "  hx_map[9]='9'\n",
        "  hx_map[10]='a'\n",
        "  hx_map[11]='b'\n",
        "  hx_map[12]='c'\n",
        "  hx_map[13]='d'\n",
        "  hx_map[14]='e'\n",
        "  hx_map[15]='f'\n",
        "\n",
        "  if num > 15 :\n",
        "    dec2hx(num // 16)\n",
        "  return(hx_map[num % 16])"
      ],
      "execution_count": 27,
      "outputs": []
    },
    {
      "cell_type": "code",
      "metadata": {
        "id": "p2JtJHtlodTE",
        "colab_type": "code",
        "colab": {
          "base_uri": "https://localhost:8080/",
          "height": 1000
        },
        "outputId": "af5051c0-10d5-4c2e-e7b2-f57df5dd00cb"
      },
      "source": [
        "for i in range(1,129,4):\n",
        "  print(f\"Hex of {i} is XX-{dec2hx(i)}\")\n",
        "  print(f\":::: Using Built in function TALLY==Hex of {i} is {hex(i)} ::::\")\n",
        "\n",
        "  "
      ],
      "execution_count": 37,
      "outputs": [
        {
          "output_type": "stream",
          "text": [
            "Hex of 1 is XX-1\n",
            ":::: Using Built in function TALLY==Hex of 1 is 0x1 ::::\n",
            "Hex of 5 is XX-5\n",
            ":::: Using Built in function TALLY==Hex of 5 is 0x5 ::::\n",
            "Hex of 9 is XX-9\n",
            ":::: Using Built in function TALLY==Hex of 9 is 0x9 ::::\n",
            "Hex of 13 is XX-d\n",
            ":::: Using Built in function TALLY==Hex of 13 is 0xd ::::\n",
            "Hex of 17 is XX-1\n",
            ":::: Using Built in function TALLY==Hex of 17 is 0x11 ::::\n",
            "Hex of 21 is XX-5\n",
            ":::: Using Built in function TALLY==Hex of 21 is 0x15 ::::\n",
            "Hex of 25 is XX-9\n",
            ":::: Using Built in function TALLY==Hex of 25 is 0x19 ::::\n",
            "Hex of 29 is XX-d\n",
            ":::: Using Built in function TALLY==Hex of 29 is 0x1d ::::\n",
            "Hex of 33 is XX-1\n",
            ":::: Using Built in function TALLY==Hex of 33 is 0x21 ::::\n",
            "Hex of 37 is XX-5\n",
            ":::: Using Built in function TALLY==Hex of 37 is 0x25 ::::\n",
            "Hex of 41 is XX-9\n",
            ":::: Using Built in function TALLY==Hex of 41 is 0x29 ::::\n",
            "Hex of 45 is XX-d\n",
            ":::: Using Built in function TALLY==Hex of 45 is 0x2d ::::\n",
            "Hex of 49 is XX-1\n",
            ":::: Using Built in function TALLY==Hex of 49 is 0x31 ::::\n",
            "Hex of 53 is XX-5\n",
            ":::: Using Built in function TALLY==Hex of 53 is 0x35 ::::\n",
            "Hex of 57 is XX-9\n",
            ":::: Using Built in function TALLY==Hex of 57 is 0x39 ::::\n",
            "Hex of 61 is XX-d\n",
            ":::: Using Built in function TALLY==Hex of 61 is 0x3d ::::\n",
            "Hex of 65 is XX-1\n",
            ":::: Using Built in function TALLY==Hex of 65 is 0x41 ::::\n",
            "Hex of 69 is XX-5\n",
            ":::: Using Built in function TALLY==Hex of 69 is 0x45 ::::\n",
            "Hex of 73 is XX-9\n",
            ":::: Using Built in function TALLY==Hex of 73 is 0x49 ::::\n",
            "Hex of 77 is XX-d\n",
            ":::: Using Built in function TALLY==Hex of 77 is 0x4d ::::\n",
            "Hex of 81 is XX-1\n",
            ":::: Using Built in function TALLY==Hex of 81 is 0x51 ::::\n",
            "Hex of 85 is XX-5\n",
            ":::: Using Built in function TALLY==Hex of 85 is 0x55 ::::\n",
            "Hex of 89 is XX-9\n",
            ":::: Using Built in function TALLY==Hex of 89 is 0x59 ::::\n",
            "Hex of 93 is XX-d\n",
            ":::: Using Built in function TALLY==Hex of 93 is 0x5d ::::\n",
            "Hex of 97 is XX-1\n",
            ":::: Using Built in function TALLY==Hex of 97 is 0x61 ::::\n",
            "Hex of 101 is XX-5\n",
            ":::: Using Built in function TALLY==Hex of 101 is 0x65 ::::\n",
            "Hex of 105 is XX-9\n",
            ":::: Using Built in function TALLY==Hex of 105 is 0x69 ::::\n",
            "Hex of 109 is XX-d\n",
            ":::: Using Built in function TALLY==Hex of 109 is 0x6d ::::\n",
            "Hex of 113 is XX-1\n",
            ":::: Using Built in function TALLY==Hex of 113 is 0x71 ::::\n",
            "Hex of 117 is XX-5\n",
            ":::: Using Built in function TALLY==Hex of 117 is 0x75 ::::\n",
            "Hex of 121 is XX-9\n",
            ":::: Using Built in function TALLY==Hex of 121 is 0x79 ::::\n",
            "Hex of 125 is XX-d\n",
            ":::: Using Built in function TALLY==Hex of 125 is 0x7d ::::\n"
          ],
          "name": "stdout"
        }
      ]
    },
    {
      "cell_type": "markdown",
      "metadata": {
        "id": "L4lWEkayaDOj",
        "colab_type": "text"
      },
      "source": [
        "# Debugging"
      ]
    },
    {
      "cell_type": "markdown",
      "metadata": {
        "id": "xCURtGU4Z9Jk",
        "colab_type": "text"
      },
      "source": [
        "# Class and OOP"
      ]
    }
  ]
}